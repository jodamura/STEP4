{
 "cells": [
  {
   "cell_type": "markdown",
   "id": "f1693462",
   "metadata": {},
   "source": [
    "# 2/7　Step4③-2:FastAPIのサンプルコードを動かす"
   ]
  },
  {
   "cell_type": "code",
   "execution_count": 7,
   "id": "f0a02d80",
   "metadata": {},
   "outputs": [],
   "source": [
    "import requests  # import"
   ]
  },
  {
   "cell_type": "code",
   "execution_count": 8,
   "id": "e3b0efb9",
   "metadata": {},
   "outputs": [],
   "source": [
    "##End pointの設定　  -    port + \"/double\"\n",
    "FastAPI_url = 'http://127.0.0.1:8001/ultra'  # FastAPI /  port 8001"
   ]
  },
  {
   "cell_type": "code",
   "execution_count": 9,
   "id": "1d406b39",
   "metadata": {},
   "outputs": [],
   "source": [
    "# FastAPI / API docs通りにリクエストボディ（body）を作成。\n",
    "body = {\n",
    "    \"name\" : \"まつもと\"\n",
    "}"
   ]
  },
  {
   "cell_type": "code",
   "execution_count": 10,
   "id": "4cf70cf9",
   "metadata": {},
   "outputs": [],
   "source": [
    "res_fastapi = requests.post(FastAPI_url,json = body)  #Endpointは\"FastAPI_url\"を指定"
   ]
  },
  {
   "cell_type": "code",
   "execution_count": 11,
   "id": "12bbdccb",
   "metadata": {},
   "outputs": [
    {
     "data": {
      "text/plain": [
       "<Response [200]>"
      ]
     },
     "execution_count": 11,
     "metadata": {},
     "output_type": "execute_result"
    }
   ],
   "source": [
    "res_fastapi "
   ]
  },
  {
   "cell_type": "code",
   "execution_count": 12,
   "id": "78b85fcc",
   "metadata": {
    "scrolled": true
   },
   "outputs": [
    {
     "data": {
      "text/plain": [
       "{'result': '人違いでした'}"
      ]
     },
     "execution_count": 12,
     "metadata": {},
     "output_type": "execute_result"
    }
   ],
   "source": [
    "res_fastapi .json()"
   ]
  }
 ],
 "metadata": {
  "kernelspec": {
   "display_name": "Python 3 (ipykernel)",
   "language": "python",
   "name": "python3"
  },
  "language_info": {
   "codemirror_mode": {
    "name": "ipython",
    "version": 3
   },
   "file_extension": ".py",
   "mimetype": "text/x-python",
   "name": "python",
   "nbconvert_exporter": "python",
   "pygments_lexer": "ipython3",
   "version": "3.12.2"
  }
 },
 "nbformat": 4,
 "nbformat_minor": 5
}
